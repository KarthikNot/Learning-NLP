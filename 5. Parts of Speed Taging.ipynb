{
 "cells": [
  {
   "cell_type": "code",
   "execution_count": 29,
   "id": "785c8351",
   "metadata": {},
   "outputs": [],
   "source": [
    "docs = '''Ladies and gentlemen, thank you for being here today. It's a privilege to stand before you and share some \n",
    "thoughts on our shared journey and aspirations. In this rapidly changing world, we are presented with both unprecedented \n",
    "opportunities and formidable challenges. Our ability to navigate these times depends on our collective effort, resilience,\n",
    "and vision for the future. We live in an era where technology is advancing at an incredible pace. Innovations in artificial intelligence, renewable energy, and biotechnology hold the promise of transforming\n",
    "our lives for the better. However, with great power comes great responsibility. It is up to us to ensure that these advancements are used ethically and equitably, so that they benefit all of humanity, not just a select few.\n",
    "Education is the cornerstone of progress. By investing in our educational systems, we equip future generations\n",
    "with the knowledge and skills they need to tackle the problems of tomorrow. It's essential that we promote a \n",
    "culture of lifelong learning, where curiosity is encouraged, and creativity is nurtured. Our schools and universities \n",
    "must be places where diverse ideas flourish, and critical thinking is honed. Community and collaboration are equally important. No individual or organization can achieve significant \n",
    "change in isolation. By working together, we can pool our resources, share our expertise, and amplify our impact.\n",
    "Whether it's through grassroots initiatives, public-private partnerships, or global alliances, our collective action \n",
    "can drive meaningful progress. As we look to the future, let's remember that our greatest strength lies in our diversity. \n",
    "Our different perspectives, experiences, and backgrounds enrich our understanding and broaden \n",
    "our horizons. By embracing inclusivity and fostering a spirit of empathy and mutual respect, \n",
    "we can create a more just and equitable society. In conclusion, let us approach the future with optimism and determination. Let's commit to making a positive difference in our communities and the world at large. Together, we have the power to shape a brighter, more sustainable future for all. Thank you.\n",
    "'''"
   ]
  },
  {
   "cell_type": "code",
   "execution_count": 30,
   "id": "f1f04d24",
   "metadata": {},
   "outputs": [],
   "source": [
    "import nltk"
   ]
  },
  {
   "cell_type": "code",
   "execution_count": 31,
   "id": "6060482c",
   "metadata": {},
   "outputs": [
    {
     "data": {
      "text/plain": [
       "['Ladies and gentlemen, thank you for being here today.',\n",
       " \"It's a privilege to stand before you and share some \\nthoughts on our shared journey and aspirations.\",\n",
       " 'In this rapidly changing world, we are presented with both unprecedented \\nopportunities and formidable challenges.',\n",
       " 'Our ability to navigate these times depends on our collective effort, resilience,\\nand vision for the future.',\n",
       " 'We live in an era where technology is advancing at an incredible pace.',\n",
       " 'Innovations in artificial intelligence, renewable energy, and biotechnology hold the promise of transforming\\nour lives for the better.',\n",
       " 'However, with great power comes great responsibility.',\n",
       " 'It is up to us to ensure that these advancements are used ethically and equitably, so that they benefit all of humanity, not just a select few.',\n",
       " 'Education is the cornerstone of progress.',\n",
       " 'By investing in our educational systems, we equip future generations\\nwith the knowledge and skills they need to tackle the problems of tomorrow.',\n",
       " \"It's essential that we promote a \\nculture of lifelong learning, where curiosity is encouraged, and creativity is nurtured.\",\n",
       " 'Our schools and universities \\nmust be places where diverse ideas flourish, and critical thinking is honed.',\n",
       " 'Community and collaboration are equally important.',\n",
       " 'No individual or organization can achieve significant \\nchange in isolation.',\n",
       " 'By working together, we can pool our resources, share our expertise, and amplify our impact.',\n",
       " \"Whether it's through grassroots initiatives, public-private partnerships, or global alliances, our collective action \\ncan drive meaningful progress.\",\n",
       " \"As we look to the future, let's remember that our greatest strength lies in our diversity.\",\n",
       " 'Our different perspectives, experiences, and backgrounds enrich our understanding and broaden \\nour horizons.',\n",
       " 'By embracing inclusivity and fostering a spirit of empathy and mutual respect, \\nwe can create a more just and equitable society.',\n",
       " 'In conclusion, let us approach the future with optimism and determination.',\n",
       " \"Let's commit to making a positive difference in our communities and the world at large.\",\n",
       " 'Together, we have the power to shape a brighter, more sustainable future for all.',\n",
       " 'Thank you.']"
      ]
     },
     "execution_count": 31,
     "metadata": {},
     "output_type": "execute_result"
    }
   ],
   "source": [
    "sentences = nltk.sent_tokenize(docs)\n",
    "sentences"
   ]
  },
  {
   "cell_type": "code",
   "execution_count": 32,
   "id": "66134baa",
   "metadata": {},
   "outputs": [
    {
     "name": "stdout",
     "output_type": "stream",
     "text": [
      "[('Ladies', 'NNS'), ('and', 'CC'), ('gentlemen', 'NNS'), (',', ','), ('thank', 'NN'), ('you', 'PRP'), ('for', 'IN'), ('being', 'VBG'), ('here', 'RB'), ('today', 'NN'), ('.', '.')]\n",
      "[('It', 'PRP'), (\"'s\", 'VBZ'), ('a', 'DT'), ('privilege', 'NN'), ('to', 'TO'), ('stand', 'VB'), ('before', 'IN'), ('you', 'PRP'), ('and', 'CC'), ('share', 'NN'), ('some', 'DT'), ('thoughts', 'NNS'), ('on', 'IN'), ('our', 'PRP$'), ('shared', 'VBN'), ('journey', 'NN'), ('and', 'CC'), ('aspirations', 'NNS'), ('.', '.')]\n",
      "[('In', 'IN'), ('this', 'DT'), ('rapidly', 'RB'), ('changing', 'VBG'), ('world', 'NN'), (',', ','), ('we', 'PRP'), ('are', 'VBP'), ('presented', 'VBN'), ('with', 'IN'), ('both', 'DT'), ('unprecedented', 'JJ'), ('opportunities', 'NNS'), ('and', 'CC'), ('formidable', 'JJ'), ('challenges', 'NNS'), ('.', '.')]\n",
      "[('Our', 'PRP$'), ('ability', 'NN'), ('to', 'TO'), ('navigate', 'VB'), ('these', 'DT'), ('times', 'NNS'), ('depends', 'VBZ'), ('on', 'IN'), ('our', 'PRP$'), ('collective', 'JJ'), ('effort', 'NN'), (',', ','), ('resilience', 'NN'), (',', ','), ('and', 'CC'), ('vision', 'NN'), ('for', 'IN'), ('the', 'DT'), ('future', 'NN'), ('.', '.')]\n",
      "[('We', 'PRP'), ('live', 'VBP'), ('in', 'IN'), ('an', 'DT'), ('era', 'NN'), ('where', 'WRB'), ('technology', 'NN'), ('is', 'VBZ'), ('advancing', 'VBG'), ('at', 'IN'), ('an', 'DT'), ('incredible', 'JJ'), ('pace', 'NN'), ('.', '.')]\n",
      "[('Innovations', 'NNS'), ('in', 'IN'), ('artificial', 'JJ'), ('intelligence', 'NN'), (',', ','), ('renewable', 'JJ'), ('energy', 'NN'), (',', ','), ('and', 'CC'), ('biotechnology', 'NN'), ('hold', 'VBP'), ('the', 'DT'), ('promise', 'NN'), ('of', 'IN'), ('transforming', 'VBG'), ('our', 'PRP$'), ('lives', 'NNS'), ('for', 'IN'), ('the', 'DT'), ('better', 'JJR'), ('.', '.')]\n",
      "[('However', 'RB'), (',', ','), ('with', 'IN'), ('great', 'JJ'), ('power', 'NN'), ('comes', 'VBZ'), ('great', 'JJ'), ('responsibility', 'NN'), ('.', '.')]\n",
      "[('It', 'PRP'), ('is', 'VBZ'), ('up', 'IN'), ('to', 'TO'), ('us', 'PRP'), ('to', 'TO'), ('ensure', 'VB'), ('that', 'IN'), ('these', 'DT'), ('advancements', 'NNS'), ('are', 'VBP'), ('used', 'VBN'), ('ethically', 'RB'), ('and', 'CC'), ('equitably', 'RB'), (',', ','), ('so', 'IN'), ('that', 'IN'), ('they', 'PRP'), ('benefit', 'VBP'), ('all', 'DT'), ('of', 'IN'), ('humanity', 'NN'), (',', ','), ('not', 'RB'), ('just', 'RB'), ('a', 'DT'), ('select', 'JJ'), ('few', 'JJ'), ('.', '.')]\n",
      "[('Education', 'NN'), ('is', 'VBZ'), ('the', 'DT'), ('cornerstone', 'NN'), ('of', 'IN'), ('progress', 'NN'), ('.', '.')]\n",
      "[('By', 'IN'), ('investing', 'VBG'), ('in', 'IN'), ('our', 'PRP$'), ('educational', 'JJ'), ('systems', 'NNS'), (',', ','), ('we', 'PRP'), ('equip', 'VBP'), ('future', 'JJ'), ('generations', 'NNS'), ('with', 'IN'), ('the', 'DT'), ('knowledge', 'NN'), ('and', 'CC'), ('skills', 'NNS'), ('they', 'PRP'), ('need', 'VBP'), ('to', 'TO'), ('tackle', 'VB'), ('the', 'DT'), ('problems', 'NNS'), ('of', 'IN'), ('tomorrow', 'NN'), ('.', '.')]\n",
      "[('It', 'PRP'), (\"'s\", 'VBZ'), ('essential', 'JJ'), ('that', 'IN'), ('we', 'PRP'), ('promote', 'VBP'), ('a', 'DT'), ('culture', 'NN'), ('of', 'IN'), ('lifelong', 'JJ'), ('learning', 'NN'), (',', ','), ('where', 'WRB'), ('curiosity', 'NN'), ('is', 'VBZ'), ('encouraged', 'VBN'), (',', ','), ('and', 'CC'), ('creativity', 'NN'), ('is', 'VBZ'), ('nurtured', 'VBN'), ('.', '.')]\n",
      "[('Our', 'PRP$'), ('schools', 'NNS'), ('and', 'CC'), ('universities', 'NNS'), ('must', 'MD'), ('be', 'VB'), ('places', 'NNS'), ('where', 'WRB'), ('diverse', 'NN'), ('ideas', 'NNS'), ('flourish', 'JJ'), (',', ','), ('and', 'CC'), ('critical', 'JJ'), ('thinking', 'NN'), ('is', 'VBZ'), ('honed', 'VBN'), ('.', '.')]\n",
      "[('Community', 'NNP'), ('and', 'CC'), ('collaboration', 'NN'), ('are', 'VBP'), ('equally', 'RB'), ('important', 'JJ'), ('.', '.')]\n",
      "[('No', 'DT'), ('individual', 'NN'), ('or', 'CC'), ('organization', 'NN'), ('can', 'MD'), ('achieve', 'VB'), ('significant', 'JJ'), ('change', 'NN'), ('in', 'IN'), ('isolation', 'NN'), ('.', '.')]\n",
      "[('By', 'IN'), ('working', 'VBG'), ('together', 'RB'), (',', ','), ('we', 'PRP'), ('can', 'MD'), ('pool', 'VB'), ('our', 'PRP$'), ('resources', 'NNS'), (',', ','), ('share', 'NN'), ('our', 'PRP$'), ('expertise', 'NN'), (',', ','), ('and', 'CC'), ('amplify', 'VB'), ('our', 'PRP$'), ('impact', 'NN'), ('.', '.')]\n",
      "[('Whether', 'IN'), ('it', 'PRP'), (\"'s\", 'VBZ'), ('through', 'IN'), ('grassroots', 'JJ'), ('initiatives', 'NNS'), (',', ','), ('public-private', 'JJ'), ('partnerships', 'NNS'), (',', ','), ('or', 'CC'), ('global', 'JJ'), ('alliances', 'NNS'), (',', ','), ('our', 'PRP$'), ('collective', 'JJ'), ('action', 'NN'), ('can', 'MD'), ('drive', 'VB'), ('meaningful', 'JJ'), ('progress', 'NN'), ('.', '.')]\n",
      "[('As', 'IN'), ('we', 'PRP'), ('look', 'VBP'), ('to', 'TO'), ('the', 'DT'), ('future', 'NN'), (',', ','), ('let', 'VB'), (\"'s\", 'POS'), ('remember', 'VB'), ('that', 'IN'), ('our', 'PRP$'), ('greatest', 'JJS'), ('strength', 'NN'), ('lies', 'VBZ'), ('in', 'IN'), ('our', 'PRP$'), ('diversity', 'NN'), ('.', '.')]\n",
      "[('Our', 'PRP$'), ('different', 'JJ'), ('perspectives', 'NNS'), (',', ','), ('experiences', 'NNS'), (',', ','), ('and', 'CC'), ('backgrounds', 'VBZ'), ('enrich', 'JJ'), ('our', 'PRP$'), ('understanding', 'NN'), ('and', 'CC'), ('broaden', 'VB'), ('our', 'PRP$'), ('horizons', 'NNS'), ('.', '.')]\n",
      "[('By', 'IN'), ('embracing', 'VBG'), ('inclusivity', 'NN'), ('and', 'CC'), ('fostering', 'VBG'), ('a', 'DT'), ('spirit', 'NN'), ('of', 'IN'), ('empathy', 'NN'), ('and', 'CC'), ('mutual', 'JJ'), ('respect', 'NN'), (',', ','), ('we', 'PRP'), ('can', 'MD'), ('create', 'VB'), ('a', 'DT'), ('more', 'RBR'), ('just', 'RB'), ('and', 'CC'), ('equitable', 'JJ'), ('society', 'NN'), ('.', '.')]\n",
      "[('In', 'IN'), ('conclusion', 'NN'), (',', ','), ('let', 'VB'), ('us', 'PRP'), ('approach', 'VB'), ('the', 'DT'), ('future', 'NN'), ('with', 'IN'), ('optimism', 'NN'), ('and', 'CC'), ('determination', 'NN'), ('.', '.')]\n",
      "[('Let', 'VB'), (\"'s\", 'POS'), ('commit', 'NN'), ('to', 'TO'), ('making', 'VBG'), ('a', 'DT'), ('positive', 'JJ'), ('difference', 'NN'), ('in', 'IN'), ('our', 'PRP$'), ('communities', 'NNS'), ('and', 'CC'), ('the', 'DT'), ('world', 'NN'), ('at', 'IN'), ('large', 'JJ'), ('.', '.')]\n",
      "[('Together', 'RB'), (',', ','), ('we', 'PRP'), ('have', 'VBP'), ('the', 'DT'), ('power', 'NN'), ('to', 'TO'), ('shape', 'VB'), ('a', 'DT'), ('brighter', 'NN'), (',', ','), ('more', 'RBR'), ('sustainable', 'JJ'), ('future', 'NN'), ('for', 'IN'), ('all', 'DT'), ('.', '.')]\n",
      "[('Thank', 'NNP'), ('you', 'PRP'), ('.', '.')]\n"
     ]
    }
   ],
   "source": [
    "for index in range(len(sentences)):\n",
    "    words = nltk.word_tokenize(sentences[index])\n",
    "    print(nltk.pos_tag(words))"
   ]
  },
  {
   "cell_type": "code",
   "execution_count": null,
   "id": "ee5de3b2",
   "metadata": {},
   "outputs": [],
   "source": []
  },
  {
   "cell_type": "code",
   "execution_count": null,
   "id": "ffbeb159",
   "metadata": {},
   "outputs": [],
   "source": []
  }
 ],
 "metadata": {
  "kernelspec": {
   "display_name": "Python 3 (ipykernel)",
   "language": "python",
   "name": "python3"
  },
  "language_info": {
   "codemirror_mode": {
    "name": "ipython",
    "version": 3
   },
   "file_extension": ".py",
   "mimetype": "text/x-python",
   "name": "python",
   "nbconvert_exporter": "python",
   "pygments_lexer": "ipython3",
   "version": "3.10.12"
  }
 },
 "nbformat": 4,
 "nbformat_minor": 5
}
