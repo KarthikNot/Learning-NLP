{
 "cells": [
  {
   "cell_type": "markdown",
   "id": "35827436",
   "metadata": {},
   "source": [
    "## `Lemmatization`"
   ]
  },
  {
   "cell_type": "markdown",
   "id": "de338a47",
   "metadata": {},
   "source": [
    "- Lemmatization is the process of reducing words to their base or root form, known as a lemma. \n",
    "- It's essential in natural language processing (NLP) for improving text analysis by standardizing words, which helps in tasks like search, analysis, and machine learning"
   ]
  },
  {
   "cell_type": "code",
   "execution_count": 2,
   "id": "ec87eea7",
   "metadata": {},
   "outputs": [],
   "source": [
    "words = [\"Running\",\"Runner\",\"Ran\",\"Eats\",\"Eating\",\"Eaten\", \"Happily\",\n",
    "         \"Happiness\",\"Happier\",\"Studying\",\"Student\",\"Studies\",\"Talked\",\n",
    "         \"Talking\",\"Talk\"]"
   ]
  },
  {
   "cell_type": "code",
   "execution_count": 16,
   "id": "536082e2",
   "metadata": {},
   "outputs": [
    {
     "name": "stdout",
     "output_type": "stream",
     "text": [
      "Running ----> Running\n",
      "Runner ----> Runner\n",
      "Ran ----> Ran\n",
      "Eats ----> Eats\n",
      "Eating ----> Eating\n",
      "Eaten ----> Eaten\n",
      "Happily ----> Happily\n",
      "Happiness ----> Happiness\n",
      "Happier ----> Happier\n",
      "Studying ----> Studying\n",
      "Student ----> Student\n",
      "Studies ----> Studies\n",
      "Talked ----> Talked\n",
      "Talking ----> Talking\n",
      "Talk ----> Talk\n"
     ]
    }
   ],
   "source": [
    "from nltk.stem import WordNetLemmatizer\n",
    "lemmatizer = WordNetLemmatizer()\n",
    "for word in words:\n",
    "    tempword = lemmatizer.lemmatize(word, pos = 'v')\n",
    "    print(f\"{word} ----> {tempword}\")"
   ]
  },
  {
   "cell_type": "code",
   "execution_count": null,
   "id": "a97baa22",
   "metadata": {},
   "outputs": [],
   "source": []
  },
  {
   "cell_type": "code",
   "execution_count": null,
   "id": "42e8ebd4",
   "metadata": {},
   "outputs": [],
   "source": []
  }
 ],
 "metadata": {
  "kernelspec": {
   "display_name": "Python 3 (ipykernel)",
   "language": "python",
   "name": "python3"
  },
  "language_info": {
   "codemirror_mode": {
    "name": "ipython",
    "version": 3
   },
   "file_extension": ".py",
   "mimetype": "text/x-python",
   "name": "python",
   "nbconvert_exporter": "python",
   "pygments_lexer": "ipython3",
   "version": "3.10.12"
  }
 },
 "nbformat": 4,
 "nbformat_minor": 5
}
