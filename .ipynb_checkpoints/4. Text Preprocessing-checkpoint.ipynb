{
 "cells": [
  {
   "cell_type": "code",
   "execution_count": 12,
   "id": "38f91402",
   "metadata": {},
   "outputs": [],
   "source": [
    "docs = '''Ladies and gentlemen, thank you for being here today. It's a privilege to stand before you and share some \n",
    "thoughts on our shared journey and aspirations. In this rapidly changing world, we are presented with both unprecedented \n",
    "opportunities and formidable challenges. Our ability to navigate these times depends on our collective effort, resilience,\n",
    "and vision for the future. We live in an era where technology is advancing at an incredible pace. Innovations in artificial intelligence, renewable energy, and biotechnology hold the promise of transforming\n",
    "our lives for the better. However, with great power comes great responsibility. It is up to us to ensure that these advancements are used ethically and equitably, so that they benefit all of humanity, not just a select few.\n",
    "Education is the cornerstone of progress. By investing in our educational systems, we equip future generations\n",
    "with the knowledge and skills they need to tackle the problems of tomorrow. It's essential that we promote a \n",
    "culture of lifelong learning, where curiosity is encouraged, and creativity is nurtured. Our schools and universities \n",
    "must be places where diverse ideas flourish, and critical thinking is honed. Community and collaboration are equally important. No individual or organization can achieve significant \n",
    "change in isolation. By working together, we can pool our resources, share our expertise, and amplify our impact.\n",
    "Whether it's through grassroots initiatives, public-private partnerships, or global alliances, our collective action \n",
    "can drive meaningful progress. As we look to the future, let's remember that our greatest strength lies in our diversity. \n",
    "Our different perspectives, experiences, and backgrounds enrich our understanding and broaden \n",
    "our horizons. By embracing inclusivity and fostering a spirit of empathy and mutual respect, \n",
    "we can create a more just and equitable society. In conclusion, let us approach the future with optimism and determination. Let's commit to making a positive difference in our communities and the world at large. Together, we have the power to shape a brighter, more sustainable future for all. Thank you.\n",
    "'''"
   ]
  },
  {
   "cell_type": "code",
   "execution_count": 21,
   "id": "d5272938",
   "metadata": {},
   "outputs": [
    {
     "data": {
      "text/plain": [
       "179"
      ]
     },
     "execution_count": 21,
     "metadata": {},
     "output_type": "execute_result"
    }
   ],
   "source": [
    "import nltk\n",
    "from nltk.corpus import stopwords\n",
    "len(stopwords.words('english'))"
   ]
  },
  {
   "cell_type": "markdown",
   "id": "bcfd4386",
   "metadata": {},
   "source": [
    "### `1. Tokenization`"
   ]
  },
  {
   "cell_type": "code",
   "execution_count": 36,
   "id": "24b3cfb8",
   "metadata": {},
   "outputs": [
    {
     "data": {
      "text/plain": [
       "['ladies and gentlemen, thank you for being here today.',\n",
       " \"it's a privilege to stand before you and share some \\nthoughts on our shared journey and aspirations.\",\n",
       " 'in this rapidly changing world, we are presented with both unprecedented \\nopportunities and formidable challenges.',\n",
       " 'our ability to navigate these times depends on our collective effort, resilience,\\nand vision for the future.',\n",
       " 'we live in an era where technology is advancing at an incredible pace.',\n",
       " 'innovations in artificial intelligence, renewable energy, and biotechnology hold the promise of transforming\\nour lives for the better.',\n",
       " 'however, with great power comes great responsibility.',\n",
       " 'it is up to us to ensure that these advancements are used ethically and equitably, so that they benefit all of humanity, not just a select few.',\n",
       " 'education is the cornerstone of progress.',\n",
       " 'by investing in our educational systems, we equip future generations\\nwith the knowledge and skills they need to tackle the problems of tomorrow.',\n",
       " \"it's essential that we promote a \\nculture of lifelong learning, where curiosity is encouraged, and creativity is nurtured.\",\n",
       " 'our schools and universities \\nmust be places where diverse ideas flourish, and critical thinking is honed.',\n",
       " 'community and collaboration are equally important.',\n",
       " 'no individual or organization can achieve significant \\nchange in isolation.',\n",
       " 'by working together, we can pool our resources, share our expertise, and amplify our impact.',\n",
       " \"whether it's through grassroots initiatives, public-private partnerships, or global alliances, our collective action \\ncan drive meaningful progress.\",\n",
       " \"as we look to the future, let's remember that our greatest strength lies in our diversity.\",\n",
       " 'our different perspectives, experiences, and backgrounds enrich our understanding and broaden \\nour horizons.',\n",
       " 'by embracing inclusivity and fostering a spirit of empathy and mutual respect, \\nwe can create a more just and equitable society.',\n",
       " 'in conclusion, let us approach the future with optimism and determination.',\n",
       " \"let's commit to making a positive difference in our communities and the world at large.\",\n",
       " 'together, we have the power to shape a brighter, more sustainable future for all.',\n",
       " 'thank you.']"
      ]
     },
     "execution_count": 36,
     "metadata": {},
     "output_type": "execute_result"
    }
   ],
   "source": [
    "from nltk.tokenize import sent_tokenize\n",
    "sentences = sent_tokenize(docs.lower())\n",
    "sentences"
   ]
  },
  {
   "cell_type": "markdown",
   "id": "4054e554",
   "metadata": {},
   "source": [
    "### `2. Stemming`"
   ]
  },
  {
   "cell_type": "code",
   "execution_count": 35,
   "id": "10dd8ea0",
   "metadata": {},
   "outputs": [
    {
     "data": {
      "text/plain": [
       "['ladi gentlemen , thank today .',\n",
       " \"'s privileg stand share thought share journey aspir .\",\n",
       " 'rapid chang world , present unpreced opportun formid challeng .',\n",
       " 'abil navig time depend collect effort , resili , vision futur .',\n",
       " 'live era technolog advanc incred pace .',\n",
       " 'innov artifici intellig , renew energi , biotechnolog hold promis transform live better .',\n",
       " 'howev , great power come great respons .',\n",
       " 'us ensur advanc use ethic equit , benefit human , select .',\n",
       " 'educ cornerston progress .',\n",
       " 'invest educ system , equip futur generat knowledg skill need tackl problem tomorrow .',\n",
       " \"'s essenti promot cultur lifelong learn , curios encourag , creativ nurtur .\",\n",
       " 'school univers must place divers idea flourish , critic think hone .',\n",
       " 'communiti collabor equal import .',\n",
       " 'individu organ achiev signific chang isol .',\n",
       " 'work togeth , pool resourc , share expertis , amplifi impact .',\n",
       " \"whether 's grassroot initi , public-priv partnership , global allianc , collect action drive meaning progress .\",\n",
       " \"look futur , let 's rememb greatest strength lie divers .\",\n",
       " 'differ perspect , experi , background enrich understand broaden horizon .',\n",
       " 'embrac inclus foster spirit empathi mutual respect , creat equit societi .',\n",
       " 'conclus , let us approach futur optim determin .',\n",
       " \"let 's commit make posit differ communiti world larg .\",\n",
       " 'togeth , power shape brighter , sustain futur .',\n",
       " 'thank .']"
      ]
     },
     "execution_count": 35,
     "metadata": {},
     "output_type": "execute_result"
    }
   ],
   "source": [
    "from nltk.tokenize import word_tokenize\n",
    "from nltk.stem import SnowballStemmer\n",
    "snowstemmer = SnowballStemmer('english')\n",
    "\n",
    "for index in range(len(sentences)): \n",
    "    words = word_tokenize(sentences[index])\n",
    "    words = [snowstemmer.stem(word) for word in words if word not in set(stopwords.words('english'))]\n",
    "    sentences[index] = ' '.join(words)\n",
    "    \n",
    "sentences"
   ]
  },
  {
   "cell_type": "markdown",
   "id": "9ae65502",
   "metadata": {},
   "source": [
    "### `3. Lemmatization`"
   ]
  },
  {
   "cell_type": "code",
   "execution_count": 37,
   "id": "434119b1",
   "metadata": {},
   "outputs": [
    {
     "data": {
      "text/plain": [
       "['ladies gentlemen , thank today .',\n",
       " \"'s privilege stand share thoughts share journey aspirations .\",\n",
       " 'rapidly change world , present unprecedented opportunities formidable challenge .',\n",
       " 'ability navigate time depend collective effort , resilience , vision future .',\n",
       " 'live era technology advance incredible pace .',\n",
       " 'innovations artificial intelligence , renewable energy , biotechnology hold promise transform live better .',\n",
       " 'however , great power come great responsibility .',\n",
       " 'us ensure advancements use ethically equitably , benefit humanity , select .',\n",
       " 'education cornerstone progress .',\n",
       " 'invest educational systems , equip future generations knowledge skills need tackle problems tomorrow .',\n",
       " \"'s essential promote culture lifelong learn , curiosity encourage , creativity nurture .\",\n",
       " 'school universities must place diverse ideas flourish , critical think hone .',\n",
       " 'community collaboration equally important .',\n",
       " 'individual organization achieve significant change isolation .',\n",
       " 'work together , pool resources , share expertise , amplify impact .',\n",
       " \"whether 's grassroots initiatives , public-private partnerships , global alliances , collective action drive meaningful progress .\",\n",
       " \"look future , let 's remember greatest strength lie diversity .\",\n",
       " 'different perspectives , experience , background enrich understand broaden horizons .',\n",
       " 'embrace inclusivity foster spirit empathy mutual respect , create equitable society .',\n",
       " 'conclusion , let us approach future optimism determination .',\n",
       " \"let 's commit make positive difference communities world large .\",\n",
       " 'together , power shape brighter , sustainable future .',\n",
       " 'thank .']"
      ]
     },
     "execution_count": 37,
     "metadata": {},
     "output_type": "execute_result"
    }
   ],
   "source": [
    "from nltk.stem import WordNetLemmatizer\n",
    "lemmatizer = WordNetLemmatizer()\n",
    "\n",
    "for index in range(len(sentences)): \n",
    "    words = word_tokenize(sentences[index])\n",
    "    words = [lemmatizer.lemmatize(word, pos='v') for word in words if word not in set(stopwords.words('english'))]\n",
    "    sentences[index] = ' '.join(words)\n",
    "    \n",
    "sentences"
   ]
  },
  {
   "cell_type": "code",
   "execution_count": null,
   "id": "6d9acc89",
   "metadata": {},
   "outputs": [],
   "source": []
  },
  {
   "cell_type": "code",
   "execution_count": null,
   "id": "5b162929",
   "metadata": {},
   "outputs": [],
   "source": []
  },
  {
   "cell_type": "code",
   "execution_count": null,
   "id": "1c9403f9",
   "metadata": {},
   "outputs": [],
   "source": []
  }
 ],
 "metadata": {
  "kernelspec": {
   "display_name": "Python 3 (ipykernel)",
   "language": "python",
   "name": "python3"
  },
  "language_info": {
   "codemirror_mode": {
    "name": "ipython",
    "version": 3
   },
   "file_extension": ".py",
   "mimetype": "text/x-python",
   "name": "python",
   "nbconvert_exporter": "python",
   "pygments_lexer": "ipython3",
   "version": "3.10.12"
  }
 },
 "nbformat": 4,
 "nbformat_minor": 5
}
