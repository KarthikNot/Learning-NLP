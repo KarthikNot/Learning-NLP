{
 "cells": [
  {
   "cell_type": "markdown",
   "id": "9afd3fea",
   "metadata": {},
   "source": [
    "# `Stemming`"
   ]
  },
  {
   "cell_type": "markdown",
   "id": "7d950c07",
   "metadata": {},
   "source": [
    "- Stemming is a text normalization process that reduces words to their <b>`root form`</b> or <b>`base stem` [aka lemma].</b>\n",
    "- For example, `running`, `runner` and `ran` might all be reduced to `run` . \n",
    "- The goal is to simplify and group similar words to improve text processing and analysis."
   ]
  },
  {
   "cell_type": "code",
   "execution_count": 1,
   "id": "a079520a",
   "metadata": {},
   "outputs": [],
   "source": [
    "import nltk\n",
    "words = [\"Running\",\"Runner\",\"Ran\",\"Eats\",\"Eating\",\"Eaten\", \"Happily\",\n",
    "         \"Happiness\",\"Happier\",\"Studying\",\"Student\",\"Studies\",\"Talked\",\n",
    "         \"Talking\",\"Talk\"]"
   ]
  },
  {
   "cell_type": "markdown",
   "id": "3807c9f4",
   "metadata": {},
   "source": [
    "## `1. Porter Stemmer`"
   ]
  },
  {
   "cell_type": "markdown",
   "id": "8df1bd01",
   "metadata": {},
   "source": [
    "- Uses a set of predefined rules to <b>`remove suffixes`</b> from words."
   ]
  },
  {
   "cell_type": "code",
   "execution_count": 2,
   "id": "a613f4d4",
   "metadata": {},
   "outputs": [
    {
     "name": "stdout",
     "output_type": "stream",
     "text": [
      "Running ----> run\n",
      "Runner ----> runner\n",
      "Ran ----> ran\n",
      "Eats ----> eat\n",
      "Eating ----> eat\n",
      "Eaten ----> eaten\n",
      "Happily ----> happili\n",
      "Happiness ----> happi\n",
      "Happier ----> happier\n",
      "Studying ----> studi\n",
      "Student ----> student\n",
      "Studies ----> studi\n",
      "Talked ----> talk\n",
      "Talking ----> talk\n",
      "Talk ----> talk\n"
     ]
    }
   ],
   "source": [
    "from nltk.stem import PorterStemmer\n",
    "stemmer = PorterStemmer()\n",
    "for word in words:\n",
    "    print(f'{word} ----> {stemmer.stem(word)}')"
   ]
  },
  {
   "cell_type": "markdown",
   "id": "ffbd737a",
   "metadata": {},
   "source": [
    "- The major disadvantage of stemming is <b>`Studying`</b> and <b>`Studies`</b> to <b>`studi`</b> \n",
    "- It should have been <b>`study`</b> with a 'y'\n",
    "- This changes the entire meaning of the word <b>`Studying`</b> and <b>`Studies`</b>"
   ]
  },
  {
   "cell_type": "code",
   "execution_count": 3,
   "id": "630fe348",
   "metadata": {},
   "outputs": [
    {
     "data": {
      "text/plain": [
       "'congratul'"
      ]
     },
     "execution_count": 3,
     "metadata": {},
     "output_type": "execute_result"
    }
   ],
   "source": [
    "stemmer.stem('congratulate')"
   ]
  },
  {
   "cell_type": "markdown",
   "id": "a7449237",
   "metadata": {},
   "source": [
    "- what is the meaning of the word <b>`Congratul`</b>???\n",
    "- This is one of the major drawback of Stemming"
   ]
  },
  {
   "cell_type": "markdown",
   "id": "4ed3395c",
   "metadata": {},
   "source": [
    "## `2. RegexpStemmer`"
   ]
  },
  {
   "cell_type": "markdown",
   "id": "623ce52c",
   "metadata": {},
   "source": [
    "- uses regular expressions to <b>`match and remove suffixes or patterns`</b> from words"
   ]
  },
  {
   "cell_type": "code",
   "execution_count": 4,
   "id": "aff7a9f7",
   "metadata": {},
   "outputs": [
    {
     "name": "stdout",
     "output_type": "stream",
     "text": [
      "Running ----> Runn\n",
      "Runner ----> Runner\n",
      "Ran ----> Ran\n",
      "Eats ----> Eat\n",
      "Eating ----> Eat\n",
      "Eaten ----> Eaten\n",
      "Happily ----> Happily\n",
      "Happiness ----> Happines\n",
      "Happier ----> Happier\n",
      "Studying ----> Study\n",
      "Student ----> Student\n",
      "Studies ----> Studie\n",
      "Talked ----> Talked\n",
      "Talking ----> Talk\n",
      "Talk ----> Talk\n"
     ]
    }
   ],
   "source": [
    "from nltk.stem import RegexpStemmer\n",
    "regexstemmer = RegexpStemmer('ing$|s$|e$|able$|^ing', min=4)\n",
    "for word in words:\n",
    "    print(f'{word} ----> {regexstemmer.stem(word)}')"
   ]
  },
  {
   "cell_type": "markdown",
   "id": "05f147d8",
   "metadata": {},
   "source": [
    "## `3. Snowball Stemmer`"
   ]
  },
  {
   "cell_type": "code",
   "execution_count": 6,
   "id": "1b60472c",
   "metadata": {},
   "outputs": [
    {
     "name": "stdout",
     "output_type": "stream",
     "text": [
      "Running ---> run\n",
      "Runner ---> runner\n",
      "Ran ---> ran\n",
      "Eats ---> eat\n",
      "Eating ---> eat\n",
      "Eaten ---> eaten\n",
      "Happily ---> happili\n",
      "Happiness ---> happi\n",
      "Happier ---> happier\n",
      "Studying ---> studi\n",
      "Student ---> student\n",
      "Studies ---> studi\n",
      "Talked ---> talk\n",
      "Talking ---> talk\n",
      "Talk ---> talk\n"
     ]
    }
   ],
   "source": [
    "from nltk.stem import SnowballStemmer\n",
    "snowstemmer = SnowballStemmer('english')\n",
    "for word in words:\n",
    "    print(f'{word} ---> {snowstemmer.stem(word)}')"
   ]
  },
  {
   "cell_type": "markdown",
   "id": "952f303f",
   "metadata": {},
   "source": [
    "### `-> Difference between Snowball and Porter Stemmers`"
   ]
  },
  {
   "cell_type": "code",
   "execution_count": 9,
   "id": "a82a390c",
   "metadata": {},
   "outputs": [
    {
     "data": {
      "text/plain": [
       "('fairli', 'sportingli')"
      ]
     },
     "execution_count": 9,
     "metadata": {},
     "output_type": "execute_result"
    }
   ],
   "source": [
    "stemmer.stem('fairly'), stemmer.stem('sportingly')"
   ]
  },
  {
   "cell_type": "code",
   "execution_count": 10,
   "id": "97e54d8a",
   "metadata": {},
   "outputs": [
    {
     "data": {
      "text/plain": [
       "('fair', 'sport')"
      ]
     },
     "execution_count": 10,
     "metadata": {},
     "output_type": "execute_result"
    }
   ],
   "source": [
    "snowstemmer.stem('fairly'), snowstemmer.stem('sportingly')"
   ]
  },
  {
   "cell_type": "markdown",
   "id": "cd993117",
   "metadata": {},
   "source": [
    "- snowball stemmer > porter"
   ]
  },
  {
   "cell_type": "code",
   "execution_count": null,
   "id": "118423dd",
   "metadata": {},
   "outputs": [],
   "source": []
  }
 ],
 "metadata": {
  "kernelspec": {
   "display_name": "Python 3 (ipykernel)",
   "language": "python",
   "name": "python3"
  },
  "language_info": {
   "codemirror_mode": {
    "name": "ipython",
    "version": 3
   },
   "file_extension": ".py",
   "mimetype": "text/x-python",
   "name": "python",
   "nbconvert_exporter": "python",
   "pygments_lexer": "ipython3",
   "version": "3.10.12"
  }
 },
 "nbformat": 4,
 "nbformat_minor": 5
}
