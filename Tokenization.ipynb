{
 "cells": [
  {
   "cell_type": "code",
   "execution_count": 1,
   "id": "ccbc5494",
   "metadata": {},
   "outputs": [],
   "source": [
    "import nltk"
   ]
  },
  {
   "cell_type": "code",
   "execution_count": 35,
   "id": "900f72c2",
   "metadata": {},
   "outputs": [
    {
     "name": "stdout",
     "output_type": "stream",
     "text": [
      "Wow!!! Is this really happening? \n",
      "I can't believe it—amazing, right? \n",
      "He said: \"You must be joking!\" \n",
      "Haha, unbelievable...\n",
      "\n"
     ]
    }
   ],
   "source": [
    "corpus = '''Wow!!! Is this really happening? \n",
    "I can't believe it—amazing, right? \n",
    "He said: \"You must be joking!\" \n",
    "Haha, unbelievable...\n",
    "''' \n",
    "print(corpus)"
   ]
  },
  {
   "cell_type": "markdown",
   "id": "c7c06dd8",
   "metadata": {},
   "source": [
    "### `-> Sentence tokenizer`"
   ]
  },
  {
   "cell_type": "markdown",
   "id": "56952dee",
   "metadata": {},
   "source": [
    "- divides the whole corpus based on <b>`punctuation marks`</b>"
   ]
  },
  {
   "cell_type": "code",
   "execution_count": 36,
   "id": "b2aa81e8",
   "metadata": {},
   "outputs": [
    {
     "name": "stdout",
     "output_type": "stream",
     "text": [
      "0 -> Wow!!!\n",
      "1 -> Is this really happening?\n",
      "2 -> I can't believe it—amazing, right?\n",
      "3 -> He said: \"You must be joking!\"\n",
      "4 -> Haha, unbelievable...\n"
     ]
    }
   ],
   "source": [
    "# divides each sentence based on 'punctuation marks'\n",
    "from nltk.tokenize import sent_tokenize\n",
    "sentences = sent_tokenize(corpus)\n",
    "for i,sentence in enumerate(sentences):\n",
    "    print(f'{i} -> {sentence}')"
   ]
  },
  {
   "cell_type": "markdown",
   "id": "d7518685",
   "metadata": {},
   "source": [
    "### `-> Word tokenizer`"
   ]
  },
  {
   "cell_type": "markdown",
   "id": "4038b1f3",
   "metadata": {},
   "source": [
    "- divides the whole corpus based on <b>`spaces and punctuation marks`</b>"
   ]
  },
  {
   "cell_type": "code",
   "execution_count": 37,
   "id": "f9a1a49d",
   "metadata": {},
   "outputs": [
    {
     "name": "stdout",
     "output_type": "stream",
     "text": [
      "0 -> Wow\n",
      "1 -> !\n",
      "2 -> !\n",
      "3 -> !\n",
      "4 -> Is\n",
      "5 -> this\n",
      "6 -> really\n",
      "7 -> happening\n",
      "8 -> ?\n",
      "9 -> I\n",
      "10 -> ca\n",
      "11 -> n't\n",
      "12 -> believe\n",
      "13 -> it—amazing\n",
      "14 -> ,\n",
      "15 -> right\n",
      "16 -> ?\n",
      "17 -> He\n",
      "18 -> said\n",
      "19 -> :\n",
      "20 -> ``\n",
      "21 -> You\n",
      "22 -> must\n",
      "23 -> be\n",
      "24 -> joking\n",
      "25 -> !\n",
      "26 -> ''\n",
      "27 -> Haha\n",
      "28 -> ,\n",
      "29 -> unbelievable\n",
      "30 -> ...\n"
     ]
    }
   ],
   "source": [
    "from nltk.tokenize import word_tokenize\n",
    "words = word_tokenize(corpus)\n",
    "for i,word in enumerate(words):\n",
    "    print(f'{i} -> {word}')"
   ]
  },
  {
   "cell_type": "markdown",
   "id": "2fe93830",
   "metadata": {},
   "source": [
    "### `-> Word puct tokenizer`"
   ]
  },
  {
   "cell_type": "markdown",
   "id": "490b15cc",
   "metadata": {},
   "source": [
    "- divides the corpus in a more advanced way to handle <b>`abbreviations`</b>, <b>`initials`</b>, and other complex cases better than simple tokenizers"
   ]
  },
  {
   "cell_type": "code",
   "execution_count": 38,
   "id": "7af5e946",
   "metadata": {},
   "outputs": [
    {
     "name": "stdout",
     "output_type": "stream",
     "text": [
      "0 -> Wow\n",
      "1 -> !!!\n",
      "2 -> Is\n",
      "3 -> this\n",
      "4 -> really\n",
      "5 -> happening\n",
      "6 -> ?\n",
      "7 -> I\n",
      "8 -> can\n",
      "9 -> '\n",
      "10 -> t\n",
      "11 -> believe\n",
      "12 -> it\n",
      "13 -> —\n",
      "14 -> amazing\n",
      "15 -> ,\n",
      "16 -> right\n",
      "17 -> ?\n",
      "18 -> He\n",
      "19 -> said\n",
      "20 -> :\n",
      "21 -> \"\n",
      "22 -> You\n",
      "23 -> must\n",
      "24 -> be\n",
      "25 -> joking\n",
      "26 -> !\"\n",
      "27 -> Haha\n",
      "28 -> ,\n",
      "29 -> unbelievable\n",
      "30 -> ...\n"
     ]
    }
   ],
   "source": [
    "# apostrophe is separated\n",
    "from nltk.tokenize import wordpunct_tokenize\n",
    "wordspunct = wordpunct_tokenize(corpus)\n",
    "for i,wordpunct in enumerate(wordspunct):\n",
    "    print(f'{i} -> {wordpunct}')"
   ]
  },
  {
   "cell_type": "code",
   "execution_count": 39,
   "id": "64df058d",
   "metadata": {},
   "outputs": [
    {
     "name": "stdout",
     "output_type": "stream",
     "text": [
      "0 -> Wow\n",
      "1 -> !\n",
      "2 -> !\n",
      "3 -> !\n",
      "4 -> Is\n",
      "5 -> this\n",
      "6 -> really\n",
      "7 -> happening\n",
      "8 -> ?\n",
      "9 -> I\n",
      "10 -> ca\n",
      "11 -> n't\n",
      "12 -> believe\n",
      "13 -> it—amazing\n",
      "14 -> ,\n",
      "15 -> right\n",
      "16 -> ?\n",
      "17 -> He\n",
      "18 -> said\n",
      "19 -> :\n",
      "20 -> ``\n",
      "21 -> You\n",
      "22 -> must\n",
      "23 -> be\n",
      "24 -> joking\n",
      "25 -> !\n",
      "26 -> ''\n",
      "27 -> Haha\n",
      "28 -> ,\n",
      "29 -> unbelievable\n",
      "30 -> ...\n"
     ]
    }
   ],
   "source": [
    "from nltk.tokenize import TreebankWordTokenizer\n",
    "tbwt = TreebankWordTokenizer()\n",
    "wordstreebank = tbwt.tokenize(corpus)\n",
    "for i, wordtreebank in enumerate(wordstreebank):\n",
    "    print(f'{i} -> {wordtreebank}')"
   ]
  },
  {
   "cell_type": "code",
   "execution_count": null,
   "id": "14e3bb05",
   "metadata": {},
   "outputs": [],
   "source": []
  },
  {
   "cell_type": "code",
   "execution_count": null,
   "id": "c9a2d347",
   "metadata": {},
   "outputs": [],
   "source": []
  }
 ],
 "metadata": {
  "kernelspec": {
   "display_name": "Python 3 (ipykernel)",
   "language": "python",
   "name": "python3"
  },
  "language_info": {
   "codemirror_mode": {
    "name": "ipython",
    "version": 3
   },
   "file_extension": ".py",
   "mimetype": "text/x-python",
   "name": "python",
   "nbconvert_exporter": "python",
   "pygments_lexer": "ipython3",
   "version": "3.10.12"
  }
 },
 "nbformat": 4,
 "nbformat_minor": 5
}
